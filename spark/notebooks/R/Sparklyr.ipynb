{
 "cells": [
  {
   "cell_type": "markdown",
   "metadata": {},
   "source": [
    "# Integración de Spark y R"
   ]
  },
  {
   "cell_type": "code",
   "execution_count": 1,
   "metadata": {},
   "outputs": [
    {
     "name": "stderr",
     "output_type": "stream",
     "text": [
      "\n",
      "Attaching package: ‘dplyr’\n",
      "\n",
      "The following objects are masked from ‘package:stats’:\n",
      "\n",
      "    filter, lag\n",
      "\n",
      "The following objects are masked from ‘package:base’:\n",
      "\n",
      "    intersect, setdiff, setequal, union\n",
      "\n"
     ]
    }
   ],
   "source": [
    "library(dplyr)\n",
    "library(sparklyr)"
   ]
  },
  {
   "cell_type": "code",
   "execution_count": 2,
   "metadata": {},
   "outputs": [],
   "source": [
    "sc <- spark_connect(master = \"local\")"
   ]
  },
  {
   "cell_type": "code",
   "execution_count": 3,
   "metadata": {},
   "outputs": [
    {
     "data": {
      "text/plain": [
       "$master\n",
       "[1] \"local[1]\"\n",
       "\n",
       "$method\n",
       "[1] \"shell\"\n",
       "\n",
       "$app_name\n",
       "[1] \"sparklyr\"\n",
       "\n",
       "$config\n",
       "$config$spark.env.SPARK_LOCAL_IP.local\n",
       "[1] \"127.0.0.1\"\n",
       "\n",
       "$config$sparklyr.csv.embedded\n",
       "[1] \"^1.*\"\n",
       "\n",
       "$config$sparklyr.cores.local\n",
       "[1] 1\n",
       "\n",
       "$config$spark.sql.shuffle.partitions.local\n",
       "[1] 1\n",
       "\n",
       "attr(,\"config\")\n",
       "[1] \"default\"\n",
       "attr(,\"file\")\n",
       "[1] \"/home/cloudera/R/x86_64-redhat-linux-gnu-library/3.4/sparklyr/conf/config-template.yml\"\n",
       "\n",
       "$spark_home\n",
       "[1] \"/home/cloudera/spark-2.2.1-bin-hadoop2.7\"\n",
       "\n",
       "$backend\n",
       "A connection with                               \n",
       "description \"->localhost:37184\"\n",
       "class       \"sockconn\"         \n",
       "mode        \"wb\"               \n",
       "text        \"binary\"           \n",
       "opened      \"opened\"           \n",
       "can read    \"yes\"              \n",
       "can write   \"yes\"              \n",
       "\n",
       "$monitor\n",
       "A connection with                              \n",
       "description \"->localhost:8880\"\n",
       "class       \"sockconn\"        \n",
       "mode        \"rb\"              \n",
       "text        \"binary\"          \n",
       "opened      \"opened\"          \n",
       "can read    \"yes\"             \n",
       "can write   \"yes\"             \n",
       "\n",
       "$output_file\n",
       "[1] \"/tmp/Rtmp1S7kP9/file71ef596abbbf_spark.log\"\n",
       "\n",
       "$spark_context\n",
       "<jobj[7]>\n",
       "  org.apache.spark.SparkContext\n",
       "  org.apache.spark.SparkContext@1143247b\n",
       "\n",
       "$java_context\n",
       "<jobj[8]>\n",
       "  org.apache.spark.api.java.JavaSparkContext\n",
       "  org.apache.spark.api.java.JavaSparkContext@56e87231\n",
       "\n",
       "attr(,\"class\")\n",
       "[1] \"spark_connection\"       \"spark_shell_connection\" \"DBIConnection\"         "
      ]
     },
     "metadata": {},
     "output_type": "display_data"
    }
   ],
   "source": [
    "sc"
   ]
  },
  {
   "cell_type": "code",
   "execution_count": 4,
   "metadata": {},
   "outputs": [],
   "source": [
    "t <- tbl(sc, 'precios.ComunidadesAutonomas')"
   ]
  },
  {
   "cell_type": "code",
   "execution_count": 5,
   "metadata": {},
   "outputs": [
    {
     "data": {
      "text/plain": [
       "# Source:   table<precios.ComunidadesAutonomas> [?? x 2]\n",
       "# Database: spark_connection\n",
       "   ccaa                 idccaa\n",
       "   <chr>                <chr> \n",
       " 1 Andalucia            01    \n",
       " 2 Aragón               02    \n",
       " 3 Asturias             03    \n",
       " 4 Baleares             04    \n",
       " 5 Canarias             05    \n",
       " 6 Cantabria            06    \n",
       " 7 Castilla la Mancha   07    \n",
       " 8 Castilla y León      08    \n",
       " 9 Cataluña             09    \n",
       "10 Comunidad Valenciana 10    \n",
       "# ... with more rows"
      ]
     },
     "metadata": {},
     "output_type": "display_data"
    }
   ],
   "source": [
    "t"
   ]
  },
  {
   "cell_type": "code",
   "execution_count": null,
   "metadata": {},
   "outputs": [],
   "source": []
  }
 ],
 "metadata": {
  "kernelspec": {
   "display_name": "R",
   "language": "R",
   "name": "ir"
  },
  "language_info": {
   "codemirror_mode": "r",
   "file_extension": ".r",
   "mimetype": "text/x-r-source",
   "name": "R",
   "pygments_lexer": "r",
   "version": "3.4.3"
  }
 },
 "nbformat": 4,
 "nbformat_minor": 2
}
