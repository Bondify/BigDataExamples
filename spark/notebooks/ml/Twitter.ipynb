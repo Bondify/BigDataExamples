{
 "cells": [
  {
   "cell_type": "markdown",
   "metadata": {},
   "source": [
    "# Spark"
   ]
  },
  {
   "cell_type": "markdown",
   "metadata": {},
   "source": [
    "## Spark SQL"
   ]
  },
  {
   "cell_type": "code",
   "execution_count": 1,
   "metadata": {},
   "outputs": [],
   "source": [
    "from pyspark.sql import HiveContext, Row\n",
    "hv = HiveContext(sc)"
   ]
  },
  {
   "cell_type": "code",
   "execution_count": 2,
   "metadata": {},
   "outputs": [],
   "source": [
    "df_tweets = hv.read.json('file:///home/cloudera/TwitterData/data/msmk.json')\n",
    "df_tweets.registerTempTable(\"tweets_msmk\")"
   ]
  },
  {
   "cell_type": "code",
   "execution_count": 3,
   "metadata": {},
   "outputs": [],
   "source": [
    "topTweets = hv.sql(\"\"\"\n",
    "SELECT text, retweet_count \n",
    "FROM tweets_msmk \n",
    "ORDER BY retweet_count DESC\n",
    "LIMIT 10\n",
    "\"\"\")"
   ]
  },
  {
   "cell_type": "code",
   "execution_count": 4,
   "metadata": {},
   "outputs": [
    {
     "name": "stdout",
     "output_type": "stream",
     "text": [
      "+--------------------+-------------+\n",
      "|                text|retweet_count|\n",
      "+--------------------+-------------+\n",
      "|RT @SamsungEspana...|         6503|\n",
      "|RT @DeepLearn007:...|          245|\n",
      "|Deseando recibirt...|          134|\n",
      "|RT @ipfconline1: ...|          126|\n",
      "|RT @MikeQuindazzi...|          111|\n",
      "|RT @Ronald_vanLoo...|           94|\n",
      "|RT @xataka: ¡Twit...|           58|\n",
      "|RT @alfchoice: 👨...|           50|\n",
      "|RT @ThinkwithGoog...|           47|\n",
      "|RT @SimoAhava: So...|           47|\n",
      "+--------------------+-------------+\n",
      "\n"
     ]
    }
   ],
   "source": [
    "topTweets.show()"
   ]
  },
  {
   "cell_type": "code",
   "execution_count": 6,
   "metadata": {},
   "outputs": [],
   "source": [
    "textoDeTweets = hv.sql(\"\"\"SELECT text, retweet_count FROM tweets_msmk\"\"\")"
   ]
  },
  {
   "cell_type": "markdown",
   "metadata": {},
   "source": [
    "## Spark con RDDs"
   ]
  },
  {
   "cell_type": "code",
   "execution_count": 8,
   "metadata": {},
   "outputs": [
    {
     "data": {
      "text/plain": [
       "[u'RT @RaquelBonsfills: Para que el mensaje llegue mejor a los dem\\xe1s hemos de cuidar la parte visual:imagen, apoyo audiovisual,movimientos;la\\u2026',\n",
       " u'\\xbfTe perdiste #FASHIONFUTURE18? \\xa1No te preocupes! Puedes verlo aqu\\xed \\U0001f601\\U0001f449https://t.co/QZoEPJ1I8u',\n",
       " u'\\xbfCu\\xe1nto te gusta el mundo de la #moda? \\xa1Inf\\xf3rmate sobre nuestros m\\xe1sters y programas especializados! NUEVAS CONVOCA\\u2026 https://t.co/befimzBe92',\n",
       " u'\\xbfCu\\xe1ntas #ecotendencias puedes nombrar dentro del sector #lujo? Con esta #infograf\\xeda las descubrir\\xe1s. Desc\\xe1rgala gr\\u2026 https://t.co/uIJXe7wVDy',\n",
       " u'Led by @Zara, the 2017 Best Spanish Brands reach new dimensions of global growth  \\u27a1https://t.co/DcPY4uqpcl v\\xeda @Interbrand',\n",
       " u'RT @Fashionbiz20: Ya puedes ver en nuestro Facebook #fashionbiz20 las fotograf\\xedas con los mejores momentos del #fashionfuture18 \\nS\\xedguenos y\\u2026',\n",
       " u'\\xa1F\\xf3rmate en #BrandManagement, #Dise\\xf1o e #IdentidadCorporativa! #MSMK #MSMKBranding \\U0001f4aa https://t.co/rWuFCUkk9d https://t.co/yuI3K2bEmq',\n",
       " u'#Retos y #Desaf\\xedos del #Emprendimiento: #Startups. Este jueves 25 de Enero \\xa1RESERVA TU PLAZA!\\u27a1\\u2026 https://t.co/uxixlllv2S',\n",
       " u'@Mango se afianza en Oriente Medio ultimando veinte nuevas aperturas hasta Julio de este a\\xf1o \\U0001f449https://t.co/eJT36xymtu v\\xeda @Modaes #Moda',\n",
       " u'\\xbfSab\\xedas que la posici\\xf3n de #CommunityManager ya no est\\xe1 entre las m\\xe1s demandadas del panorama #digital? \\xbfConoces la\\u2026 https://t.co/Nhw5sRo9xQ']"
      ]
     },
     "execution_count": 8,
     "metadata": {},
     "output_type": "execute_result"
    }
   ],
   "source": [
    "cadatexto = textoDeTweets.rdd.map(lambda x: x.text)\n",
    "cadatexto.collect()[:10]"
   ]
  },
  {
   "cell_type": "code",
   "execution_count": 9,
   "metadata": {},
   "outputs": [
    {
     "data": {
      "text/plain": [
       "[u'RT',\n",
       " u'@RaquelBonsfills:',\n",
       " u'Para',\n",
       " u'que',\n",
       " u'el',\n",
       " u'mensaje',\n",
       " u'llegue',\n",
       " u'mejor',\n",
       " u'a',\n",
       " u'los',\n",
       " u'dem\\xe1s',\n",
       " u'hemos',\n",
       " u'de',\n",
       " u'cuidar',\n",
       " u'la',\n",
       " u'parte',\n",
       " u'visual:imagen,',\n",
       " u'apoyo',\n",
       " u'audiovisual,movimientos;la\\u2026',\n",
       " u'\\xbfTe']"
      ]
     },
     "execution_count": 9,
     "metadata": {},
     "output_type": "execute_result"
    }
   ],
   "source": [
    "separado = cadatexto.flatMap(lambda x: x.split())\n",
    "separado.collect()[:20]"
   ]
  },
  {
   "cell_type": "code",
   "execution_count": 10,
   "metadata": {},
   "outputs": [
    {
     "data": {
      "text/plain": [
       "[(u'RT', 1),\n",
       " (u'@RaquelBonsfills:', 1),\n",
       " (u'Para', 1),\n",
       " (u'que', 1),\n",
       " (u'el', 1),\n",
       " (u'mensaje', 1),\n",
       " (u'llegue', 1),\n",
       " (u'mejor', 1),\n",
       " (u'a', 1),\n",
       " (u'los', 1),\n",
       " (u'dem\\xe1s', 1),\n",
       " (u'hemos', 1),\n",
       " (u'de', 1),\n",
       " (u'cuidar', 1),\n",
       " (u'la', 1),\n",
       " (u'parte', 1),\n",
       " (u'visual:imagen,', 1),\n",
       " (u'apoyo', 1),\n",
       " (u'audiovisual,movimientos;la\\u2026', 1),\n",
       " (u'\\xbfTe', 1)]"
      ]
     },
     "execution_count": 10,
     "metadata": {},
     "output_type": "execute_result"
    }
   ],
   "source": [
    "clave_valor = separado.map(lambda x: (x, 1))\n",
    "clave_valor.collect()[:20]"
   ]
  },
  {
   "cell_type": "code",
   "execution_count": 11,
   "metadata": {},
   "outputs": [
    {
     "data": {
      "text/plain": [
       "[(u'https://t.co/2meC4DHScI', 1),\n",
       " (u'https://t.co/3CEC8HKc1N', 1),\n",
       " (u'https://t.co/p7raipAA\\u2026', 1),\n",
       " (u'Inditex', 5),\n",
       " (u'https://t.co/vF3ARIyZH7', 1),\n",
       " (u'https://t.co/iXakzmoMll', 1),\n",
       " (u'@flagshipTef', 1),\n",
       " (u'https://t.co/AEM57tv09a', 1),\n",
       " (u'\\xa1Consultan\\u2026', 3),\n",
       " (u'ESPERA', 1),\n",
       " (u'#FelizJueves', 2),\n",
       " (u'otro', 2),\n",
       " (u'\\xbfD\\xf3nde', 1),\n",
       " (u'https://t.co/bqDjaB6FgH', 1),\n",
       " (u'#Quito,', 1),\n",
       " (u'https://t.co/tw6KUiBCTw', 1),\n",
       " (u'devenir', 2),\n",
       " (u'https://t.co/MSvSXGbYS4', 1),\n",
       " (u'https://t.co/DdcIRyECyW', 1),\n",
       " (u'https://t.co/JJNvIv3tCg', 1)]"
      ]
     },
     "execution_count": 11,
     "metadata": {},
     "output_type": "execute_result"
    }
   ],
   "source": [
    "reducido = clave_valor.reduceByKey(lambda x,y: x + y)\n",
    "reducido.collect()[:20]"
   ]
  },
  {
   "cell_type": "code",
   "execution_count": 12,
   "metadata": {},
   "outputs": [
    {
     "data": {
      "text/plain": [
       "[(u'de', 2449),\n",
       " (u'en', 1541),\n",
       " (u'el', 1082),\n",
       " (u'la', 1060),\n",
       " (u'y', 1045),\n",
       " (u'a', 711),\n",
       " (u'RT', 604),\n",
       " (u'las', 577),\n",
       " (u'para', 550),\n",
       " (u'del', 526),\n",
       " (u'que', 516),\n",
       " (u'los', 501),\n",
       " (u'con', 426),\n",
       " (u'un', 382),\n",
       " (u'v\\xeda', 329),\n",
       " (u'\\U0001f449', 310),\n",
       " (u'por', 269),\n",
       " (u'es', 245),\n",
       " (u'@MSMK_', 241),\n",
       " (u'El', 223)]"
      ]
     },
     "execution_count": 12,
     "metadata": {},
     "output_type": "execute_result"
    }
   ],
   "source": [
    "reducido_y_ordenado = reducido.sortBy(lambda x: x[1], ascending=False)\n",
    "reducido_y_ordenado.collect()[:20]"
   ]
  },
  {
   "cell_type": "markdown",
   "metadata": {},
   "source": [
    "## Visualización de datos"
   ]
  },
  {
   "cell_type": "code",
   "execution_count": 13,
   "metadata": {},
   "outputs": [],
   "source": [
    "resultados = reducido_y_ordenado.collect()[:20]"
   ]
  },
  {
   "cell_type": "code",
   "execution_count": 14,
   "metadata": {},
   "outputs": [
    {
     "data": {
      "text/plain": [
       "<matplotlib.axes._subplots.AxesSubplot at 0x7f61175ac610>"
      ]
     },
     "execution_count": 14,
     "metadata": {},
     "output_type": "execute_result"
    },
    {
     "data": {
      "image/png": "[encoded data removed]",
      "text/plain": [
       "<matplotlib.figure.Figure at 0x7f61448de150>"
      ]
     },
     "metadata": {},
     "output_type": "display_data"
    }
   ],
   "source": [
    "%matplotlib inline\n",
    "import matplotlib.pyplot as plt\n",
    "import numpy\n",
    "import pandas\n",
    "\n",
    "# matplotlib viene con una biblioteca para que el estilo\n",
    "# de los gráficos sea como el de ggplot de R:\n",
    "plt.style.use(\"ggplot\")\n",
    "\n",
    "lista_de_keys = []\n",
    "lista_de_values = []\n",
    "\n",
    "for cadatupla in resultados:\n",
    "    lista_de_keys.append(cadatupla[0])\n",
    "    lista_de_values.append(cadatupla[1])\n",
    "    \n",
    "tablita = pandas.DataFrame({\"Numero de veces\": lista_de_values},\n",
    "                          index = lista_de_keys)\n",
    "\n",
    "tablita.plot(kind=\"bar\", figsize=(16,9))"
   ]
  },
  {
   "cell_type": "markdown",
   "metadata": {},
   "source": [
    "## Machine Learning"
   ]
  },
  {
   "cell_type": "code",
   "execution_count": 15,
   "metadata": {},
   "outputs": [
    {
     "data": {
      "text/plain": [
       "[Row(text=u'RT @RaquelBonsfills: Para que el mensaje llegue mejor a los dem\\xe1s hemos de cuidar la parte visual:imagen, apoyo audiovisual,movimientos;la\\u2026', retweet_count=2),\n",
       " Row(text=u'\\xbfTe perdiste #FASHIONFUTURE18? \\xa1No te preocupes! Puedes verlo aqu\\xed \\U0001f601\\U0001f449https://t.co/QZoEPJ1I8u', retweet_count=1),\n",
       " Row(text=u'\\xbfCu\\xe1nto te gusta el mundo de la #moda? \\xa1Inf\\xf3rmate sobre nuestros m\\xe1sters y programas especializados! NUEVAS CONVOCA\\u2026 https://t.co/befimzBe92', retweet_count=0),\n",
       " Row(text=u'\\xbfCu\\xe1ntas #ecotendencias puedes nombrar dentro del sector #lujo? Con esta #infograf\\xeda las descubrir\\xe1s. Desc\\xe1rgala gr\\u2026 https://t.co/uIJXe7wVDy', retweet_count=0),\n",
       " Row(text=u'Led by @Zara, the 2017 Best Spanish Brands reach new dimensions of global growth  \\u27a1https://t.co/DcPY4uqpcl v\\xeda @Interbrand', retweet_count=0),\n",
       " Row(text=u'RT @Fashionbiz20: Ya puedes ver en nuestro Facebook #fashionbiz20 las fotograf\\xedas con los mejores momentos del #fashionfuture18 \\nS\\xedguenos y\\u2026', retweet_count=2),\n",
       " Row(text=u'\\xa1F\\xf3rmate en #BrandManagement, #Dise\\xf1o e #IdentidadCorporativa! #MSMK #MSMKBranding \\U0001f4aa https://t.co/rWuFCUkk9d https://t.co/yuI3K2bEmq', retweet_count=0),\n",
       " Row(text=u'#Retos y #Desaf\\xedos del #Emprendimiento: #Startups. Este jueves 25 de Enero \\xa1RESERVA TU PLAZA!\\u27a1\\u2026 https://t.co/uxixlllv2S', retweet_count=0),\n",
       " Row(text=u'@Mango se afianza en Oriente Medio ultimando veinte nuevas aperturas hasta Julio de este a\\xf1o \\U0001f449https://t.co/eJT36xymtu v\\xeda @Modaes #Moda', retweet_count=0),\n",
       " Row(text=u'\\xbfSab\\xedas que la posici\\xf3n de #CommunityManager ya no est\\xe1 entre las m\\xe1s demandadas del panorama #digital? \\xbfConoces la\\u2026 https://t.co/Nhw5sRo9xQ', retweet_count=0)]"
      ]
     },
     "execution_count": 15,
     "metadata": {},
     "output_type": "execute_result"
    }
   ],
   "source": [
    "textoDeTweets.collect()[:10]"
   ]
  },
  {
   "cell_type": "code",
   "execution_count": 17,
   "metadata": {},
   "outputs": [],
   "source": [
    "textoDeTweets_con_ceros = textoDeTweets.rdd.map(lambda x: (x.text, 0) if \n",
    "                                            x.retweet_count==None else \n",
    "                                            (x.text, x.retweet_count))"
   ]
  },
  {
   "cell_type": "code",
   "execution_count": 18,
   "metadata": {},
   "outputs": [
    {
     "data": {
      "text/plain": [
       "[(u'RT @RaquelBonsfills: Para que el mensaje llegue mejor a los dem\\xe1s hemos de cuidar la parte visual:imagen, apoyo audiovisual,movimientos;la\\u2026',\n",
       "  2),\n",
       " (u'\\xbfTe perdiste #FASHIONFUTURE18? \\xa1No te preocupes! Puedes verlo aqu\\xed \\U0001f601\\U0001f449https://t.co/QZoEPJ1I8u',\n",
       "  1),\n",
       " (u'\\xbfCu\\xe1nto te gusta el mundo de la #moda? \\xa1Inf\\xf3rmate sobre nuestros m\\xe1sters y programas especializados! NUEVAS CONVOCA\\u2026 https://t.co/befimzBe92',\n",
       "  0),\n",
       " (u'\\xbfCu\\xe1ntas #ecotendencias puedes nombrar dentro del sector #lujo? Con esta #infograf\\xeda las descubrir\\xe1s. Desc\\xe1rgala gr\\u2026 https://t.co/uIJXe7wVDy',\n",
       "  0),\n",
       " (u'Led by @Zara, the 2017 Best Spanish Brands reach new dimensions of global growth  \\u27a1https://t.co/DcPY4uqpcl v\\xeda @Interbrand',\n",
       "  0),\n",
       " (u'RT @Fashionbiz20: Ya puedes ver en nuestro Facebook #fashionbiz20 las fotograf\\xedas con los mejores momentos del #fashionfuture18 \\nS\\xedguenos y\\u2026',\n",
       "  2),\n",
       " (u'\\xa1F\\xf3rmate en #BrandManagement, #Dise\\xf1o e #IdentidadCorporativa! #MSMK #MSMKBranding \\U0001f4aa https://t.co/rWuFCUkk9d https://t.co/yuI3K2bEmq',\n",
       "  0),\n",
       " (u'#Retos y #Desaf\\xedos del #Emprendimiento: #Startups. Este jueves 25 de Enero \\xa1RESERVA TU PLAZA!\\u27a1\\u2026 https://t.co/uxixlllv2S',\n",
       "  0),\n",
       " (u'@Mango se afianza en Oriente Medio ultimando veinte nuevas aperturas hasta Julio de este a\\xf1o \\U0001f449https://t.co/eJT36xymtu v\\xeda @Modaes #Moda',\n",
       "  0),\n",
       " (u'\\xbfSab\\xedas que la posici\\xf3n de #CommunityManager ya no est\\xe1 entre las m\\xe1s demandadas del panorama #digital? \\xbfConoces la\\u2026 https://t.co/Nhw5sRo9xQ',\n",
       "  0)]"
      ]
     },
     "execution_count": 18,
     "metadata": {},
     "output_type": "execute_result"
    }
   ],
   "source": [
    "textoDeTweets_con_ceros.collect()[:10]"
   ]
  },
  {
   "cell_type": "code",
   "execution_count": 19,
   "metadata": {},
   "outputs": [
    {
     "name": "stdout",
     "output_type": "stream",
     "text": [
      "¿Cuánto te gusta el mundo de la #moda? ¡Infórmate sobre nuestros másters y programas especializados! NUEVAS CONVOCA… https://t.co/befimzBe92\n"
     ]
    }
   ],
   "source": [
    "print(textoDeTweets_con_ceros.collect()[2][0])"
   ]
  },
  {
   "cell_type": "code",
   "execution_count": 20,
   "metadata": {},
   "outputs": [],
   "source": [
    "RDD_limpio = textoDeTweets_con_ceros.map(lambda x: (x[0], float(x[1])))\n",
    "\n",
    "from pyspark.sql import SQLContext, Row\n",
    "from pyspark.sql.types import StructType, StructField, StringType, DoubleType\n",
    "\n",
    "sqlContext = SQLContext(sc)\n",
    "\n",
    "\n",
    "esquema = StructType([\n",
    "        StructField(\"texto\", StringType(), True),\n",
    "        StructField(\"retweets\", DoubleType(), True)])\n",
    "\n",
    "dataset_limpio = sqlContext.createDataFrame(RDD_limpio, schema=esquema)"
   ]
  },
  {
   "cell_type": "code",
   "execution_count": 21,
   "metadata": {},
   "outputs": [
    {
     "name": "stdout",
     "output_type": "stream",
     "text": [
      "+--------------------+--------+\n",
      "|               texto|retweets|\n",
      "+--------------------+--------+\n",
      "|RT @RaquelBonsfil...|     2.0|\n",
      "|¿Te perdiste #FAS...|     1.0|\n",
      "|¿Cuánto te gusta ...|     0.0|\n",
      "|¿Cuántas #ecotend...|     0.0|\n",
      "|Led by @Zara, the...|     0.0|\n",
      "|RT @Fashionbiz20:...|     2.0|\n",
      "|¡Fórmate en #Bran...|     0.0|\n",
      "|#Retos y #Desafío...|     0.0|\n",
      "|@Mango se afianza...|     0.0|\n",
      "|¿Sabías que la po...|     0.0|\n",
      "|RT @Masterexperie...|     3.0|\n",
      "|¿Son mejores las ...|     0.0|\n",
      "|¡Fórmate en #Bran...|     0.0|\n",
      "|#Creatividad: est...|     0.0|\n",
      "|¡Fórmate en #BigD...|     0.0|\n",
      "|#Retos y #Desafío...|     1.0|\n",
      "|¿Te interesaría e...|     0.0|\n",
      "|La tienda física ...|     2.0|\n",
      "|La #disrupción es...|     1.0|\n",
      "|Las #tendencias p...|     0.0|\n",
      "+--------------------+--------+\n",
      "only showing top 20 rows\n",
      "\n"
     ]
    }
   ],
   "source": [
    "dataset_limpio.show()"
   ]
  },
  {
   "cell_type": "code",
   "execution_count": 22,
   "metadata": {},
   "outputs": [],
   "source": [
    "from pyspark.ml.feature import HashingTF, Tokenizer\n",
    "\n",
    "tokenizer = Tokenizer().setInputCol(\"texto\").setOutputCol(\"palabras\")\n",
    "tf = HashingTF().setInputCol(\"palabras\").setOutputCol(\"features\")"
   ]
  },
  {
   "cell_type": "code",
   "execution_count": 23,
   "metadata": {},
   "outputs": [],
   "source": [
    "from pyspark.ml.regression import LinearRegression\n",
    "\n",
    "regresion = LinearRegression(featuresCol=\"features\",labelCol=\"retweets\")"
   ]
  },
  {
   "cell_type": "code",
   "execution_count": 24,
   "metadata": {},
   "outputs": [],
   "source": [
    "from pyspark.ml import Pipeline\n",
    "\n",
    "pipeline = Pipeline().setStages([tokenizer, tf, regresion])"
   ]
  },
  {
   "cell_type": "code",
   "execution_count": 25,
   "metadata": {},
   "outputs": [],
   "source": [
    "from pyspark.ml.tuning import CrossValidator, ParamGridBuilder\n",
    "from pyspark.ml.evaluation import RegressionEvaluator\n",
    "\n",
    "pool_de_modelos = ParamGridBuilder() \\\n",
    "    .addGrid(tf.numFeatures, range(10000,90000,10000)) \\\n",
    "    .addGrid(regresion.maxIter, range(30, 300, 50)) \\\n",
    "    .build()\n",
    "\n",
    "evaluador_regresion = RegressionEvaluator(predictionCol=\"prediction\", labelCol=\"retweets\", metricName=\"mse\")\n",
    "\n",
    "validador = CrossValidator() \\\n",
    "    .setEstimator(pipeline) \\\n",
    "    .setEstimatorParamMaps(pool_de_modelos) \\\n",
    "    .setEvaluator(evaluador_regresion)"
   ]
  },
  {
   "cell_type": "code",
   "execution_count": 26,
   "metadata": {},
   "outputs": [],
   "source": [
    "mejor_modelo = validador.fit(dataset_limpio)"
   ]
  },
  {
   "cell_type": "markdown",
   "metadata": {},
   "source": [
    "## Persistencia del modelo"
   ]
  },
  {
   "cell_type": "code",
   "execution_count": 55,
   "metadata": {},
   "outputs": [],
   "source": [
    "model = mejor_modelo.bestModel"
   ]
  },
  {
   "cell_type": "code",
   "execution_count": 56,
   "metadata": {},
   "outputs": [],
   "source": [
    "model.write().overwrite().save(\"file:///home/cloudera/Hadoop/spark/notebooks/ml/models/twitter_model\")"
   ]
  },
  {
   "cell_type": "markdown",
   "metadata": {},
   "source": [
    "## Proceso Batch"
   ]
  },
  {
   "cell_type": "code",
   "execution_count": 8,
   "metadata": {},
   "outputs": [],
   "source": [
    "from pyspark.ml.pipeline import PipelineModel \n",
    "import pandas as pd\n",
    "import numpy as np"
   ]
  },
  {
   "cell_type": "code",
   "execution_count": 9,
   "metadata": {},
   "outputs": [],
   "source": [
    "model = PipelineModel.load(\"file:///home/cloudera/Hadoop/spark/notebooks/ml/models/twitter_model\")"
   ]
  },
  {
   "cell_type": "code",
   "execution_count": 10,
   "metadata": {},
   "outputs": [],
   "source": [
    "sqlContext = SQLContext(sc)\n",
    "\n",
    "rdd = sc.parallelize([(\"Nuevo algoritmo de #machinelearning #BigData\",),\n",
    "                                    (\"Anuncio del modelo MF4331TV de Samsung #DigitalMarketing #SocialMedia #Marketing\",),\n",
    "                                    (\"Estamos teniendo problemas con la pagina web. Os mantendremos informados\",),\n",
    "                                    ])\n",
    "# Los preparamos para meterlos en el modelo:\n",
    "tweets_hipoteticos = sqlContext.createDataFrame(rdd, schema=[\"texto\"])"
   ]
  },
  {
   "cell_type": "code",
   "execution_count": 11,
   "metadata": {},
   "outputs": [
    {
     "data": {
      "text/plain": [
       "[Row(texto=u'Nuevo algoritmo de #machinelearning #BigData', prediction=3.090287913773323),\n",
       " Row(texto=u'Anuncio del modelo MF4331TV de Samsung #DigitalMarketing #SocialMedia #Marketing', prediction=2.942713166850101),\n",
       " Row(texto=u'Estamos teniendo problemas con la pagina web. Os mantendremos informados', prediction=0.17579051567016868)]"
      ]
     },
     "execution_count": 11,
     "metadata": {},
     "output_type": "execute_result"
    }
   ],
   "source": [
    "predicciones = model.transform(tweets_hipoteticos)[[\"texto\",\"prediction\"]].collect()\n",
    "predicciones"
   ]
  },
  {
   "cell_type": "code",
   "execution_count": 13,
   "metadata": {},
   "outputs": [
    {
     "data": {
      "text/html": [
       "<div>\n",
       "<style scoped>\n",
       "    .dataframe tbody tr th:only-of-type {\n",
       "        vertical-align: middle;\n",
       "    }\n",
       "\n",
       "    .dataframe tbody tr th {\n",
       "        vertical-align: top;\n",
       "    }\n",
       "\n",
       "    .dataframe thead th {\n",
       "        text-align: right;\n",
       "    }\n",
       "</style>\n",
       "<table border=\"1\" class=\"dataframe\">\n",
       "  <thead>\n",
       "    <tr style=\"text-align: right;\">\n",
       "      <th></th>\n",
       "      <th>Tweet</th>\n",
       "      <th>Prediccion de retweets</th>\n",
       "    </tr>\n",
       "  </thead>\n",
       "  <tbody>\n",
       "    <tr>\n",
       "      <th>0</th>\n",
       "      <td>Nuevo algoritmo de #machinelearning #BigData</td>\n",
       "      <td>3.0</td>\n",
       "    </tr>\n",
       "    <tr>\n",
       "      <th>1</th>\n",
       "      <td>Anuncio del modelo MF4331TV de Samsung #Digita...</td>\n",
       "      <td>2.0</td>\n",
       "    </tr>\n",
       "    <tr>\n",
       "      <th>2</th>\n",
       "      <td>Estamos teniendo problemas con la pagina web. ...</td>\n",
       "      <td>0.0</td>\n",
       "    </tr>\n",
       "  </tbody>\n",
       "</table>\n",
       "</div>"
      ],
      "text/plain": [
       "                                               Tweet  Prediccion de retweets\n",
       "0       Nuevo algoritmo de #machinelearning #BigData                     3.0\n",
       "1  Anuncio del modelo MF4331TV de Samsung #Digita...                     2.0\n",
       "2  Estamos teniendo problemas con la pagina web. ...                     0.0"
      ]
     },
     "execution_count": 13,
     "metadata": {},
     "output_type": "execute_result"
    }
   ],
   "source": [
    "# Construimos una tabla con los resultados:\n",
    "predicciones_en_tabla = pd.DataFrame(np.asarray(predicciones))\n",
    "predicciones_en_tabla.columns = [\"Tweet\", \"Prediccion de retweets\"]\n",
    "predicciones_en_tabla[\"Prediccion de retweets\"]=np.trunc(\n",
    "                                                    predicciones_en_tabla[\"Prediccion de retweets\"]\\\n",
    "                                                    .astype(\"float\"))\n",
    "predicciones_en_tabla"
   ]
  },
  {
   "cell_type": "code",
   "execution_count": null,
   "metadata": {},
   "outputs": [],
   "source": []
  }
 ],
 "metadata": {
  "kernelspec": {
   "display_name": "Python 2",
   "language": "python",
   "name": "python2"
  },
  "language_info": {
   "codemirror_mode": {
    "name": "ipython",
    "version": 2
   },
   "file_extension": ".py",
   "mimetype": "text/x-python",
   "name": "python",
   "nbconvert_exporter": "python",
   "pygments_lexer": "ipython2",
   "version": "2.7.14"
  }
 },
 "nbformat": 4,
 "nbformat_minor": 2
}
